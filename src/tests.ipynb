{
 "cells": [
  {
   "cell_type": "code",
   "execution_count": 71,
   "metadata": {
    "collapsed": true
   },
   "outputs": [],
   "source": [
    "import requests\n",
    "import xml.etree.ElementTree as ET "
   ]
  },
  {
   "cell_type": "code",
   "execution_count": 72,
   "metadata": {
    "collapsed": false
   },
   "outputs": [],
   "source": [
    "response = requests.get('http://webservices.nextbus.com/service/publicXMLFeed?command=predictions&a=umd&stopId=30965')\n",
    "\n",
    "root = ET.fromstring(response.content)"
   ]
  },
  {
   "cell_type": "code",
   "execution_count": 81,
   "metadata": {
    "collapsed": false
   },
   "outputs": [],
   "source": [
    "for i,buses in enumerate(root.iter('prediction')):\n",
    "    print i\n",
    "    print buses.attrib['minutes']"
   ]
  },
  {
   "cell_type": "code",
   "execution_count": 91,
   "metadata": {
    "collapsed": false
   },
   "outputs": [
    {
     "data": {
      "text/plain": [
       "'Shuttle-UM closed Dec 23-Jan 2 for University holiday break. Winter service resumes on Jan 3.'"
      ]
     },
     "execution_count": 91,
     "metadata": {},
     "output_type": "execute_result"
    }
   ],
   "source": [
    "root[0][0].attrib['text']"
   ]
  },
  {
   "cell_type": "code",
   "execution_count": 143,
   "metadata": {
    "collapsed": false
   },
   "outputs": [
    {
     "ename": "SyntaxError",
     "evalue": "EOL while scanning string literal (<ipython-input-143-607bb0229a25>, line 24)",
     "output_type": "error",
     "traceback": [
      "\u001b[1;36m  File \u001b[1;32m\"<ipython-input-143-607bb0229a25>\"\u001b[1;36m, line \u001b[1;32m24\u001b[0m\n\u001b[1;33m    \"\u001b[0m\n\u001b[1;37m    ^\u001b[0m\n\u001b[1;31mSyntaxError\u001b[0m\u001b[1;31m:\u001b[0m EOL while scanning string literal\n"
     ]
    }
   ],
   "source": [
    "event = {\n",
    "  \"session\": {\n",
    "    \"sessionId\": \"SessionId.0c2939f5-024a-4f00-ba5a-028194bc1ab6\",\n",
    "    \"application\": {\n",
    "      \"applicationId\": \"amzn1.ask.skill.72705f8f-663c-4961-8635-0abe89023dc0\"\n",
    "    },\n",
    "    \"attributes\": {},\n",
    "    \"user\": {\n",
    "      \"userId\": \"amzn1.ask.account.AHW7H75K5BHLYGQ3JBDWA3A2ZPSXDEEY7L4R6TPJTZDJIK2L57XIK74YONBGJV4PXZXLQMCX3CUEG4WXYUIPFKUDX2OKGDZ6FSL5UVVPKGNZHNUXOGMCFL3FZJQMTXLIKSCITPHWXHKW54JPUQRGODS7G347IBO33O2DBVN2HKRV56R5EWI5MIRTR7G75E42JQHI6QGE5JCZVZY\"\n",
    "    },\n",
    "    \"new\": True\n",
    "  },\n",
    "  \"request\": {\n",
    "    \"type\": \"IntentRequest\",\n",
    "    \"requestId\": \"EdwRequestId.c5bcd8bd-e9a7-46ad-9ec1-b4e994c757b5\",\n",
    "    \"locale\": \"en-US\",\n",
    "    \"timestamp\": \"2017-01-01T12:16:24Z\",\n",
    "    \"intent\": {\n",
    "      \"name\": \"WhatsMyBusArrivalIntent\",\n",
    "      \"slots\": {\n",
    "        \"stop\": {\n",
    "          \"name\": \"stop\",\n",
    "          \"value\": \"51188\"\n",
    "\"\n",
    "        }\n",
    "      }\n",
    "    }\n",
    "  },\n",
    "  \"version\": \"1.0\"\n",
    "}"
   ]
  },
  {
   "cell_type": "code",
   "execution_count": 115,
   "metadata": {
    "collapsed": false
   },
   "outputs": [],
   "source": [
    "intent = event['request']\n",
    "# api xml url from nextbus\n",
    "nextbus = 'http://webservices.nextbus.com/service/publicXMLFeed?command=predictions';"
   ]
  },
  {
   "cell_type": "code",
   "execution_count": 107,
   "metadata": {
    "collapsed": false
   },
   "outputs": [],
   "source": [
    "id = intent['intent']['slots']['stop']['value']"
   ]
  },
  {
   "cell_type": "code",
   "execution_count": 153,
   "metadata": {
    "collapsed": false
   },
   "outputs": [],
   "source": [
    "\"\"\"\n",
    "Template based on the alexa color example written in python\n",
    "\"\"\"\n",
    "\n",
    "from __future__ import print_function\n",
    "from src.nextbus import *\n",
    "import requests\n",
    "import xml.etree.ElementTree as ET \n",
    "\n",
    "# api xml url from nextbus\n",
    "nextbus = 'http://webservices.nextbus.com/service/publicXMLFeed?command=predictions';\n",
    "\n",
    "# --------------- Helpers that build all of the responses ----------------------\n",
    "\n",
    "def build_speechlet_response(title, output, reprompt_text, should_end_session):\n",
    "    return {\n",
    "        'outputSpeech': {\n",
    "            'type': 'PlainText',\n",
    "            'text': output\n",
    "        },\n",
    "        'card': {\n",
    "            'type': 'Simple',\n",
    "            'title': \"SessionSpeechlet - \" + title,\n",
    "            'content': \"SessionSpeechlet - \" + output\n",
    "        },\n",
    "        'reprompt': {\n",
    "            'outputSpeech': {\n",
    "                'type': 'PlainText',\n",
    "                'text': reprompt_text\n",
    "            }\n",
    "        },\n",
    "        'shouldEndSession': should_end_session\n",
    "    }\n",
    "\n",
    "\n",
    "def build_response(session_attributes, speechlet_response):\n",
    "    return {\n",
    "        'version': '1.0',\n",
    "        'sessionAttributes': session_attributes,\n",
    "        'response': speechlet_response\n",
    "    }\n",
    "    \n",
    "    \n",
    "def bus_response(stop_location,stop_bus_id,stop_direction,stop_message,stop_nextbus_times):\n",
    "    if stop_nextbus_times:\n",
    "        speech_output = \"The \" + stop_bus_id + \" heading \" + stop_direction + \" will be arriving in \"    \n",
    "        N = len(stop_nextbus_times)\n",
    "        speech_times = ''\n",
    "        if N == 1:\n",
    "            speech_times = stop_nextbus_times + ' minutes '\n",
    "        else:\n",
    "            for i,times in enumerate(stop_nextbus_times):\n",
    "                if (i+1) == N:\n",
    "                    speech_times = speech_times + 'and ' + times + ' minutes '\n",
    "                else:\n",
    "                    speech_times = speech_times + times + ', '\n",
    "                        \n",
    "        speech_output = speech_output + speech_times + 'at ' + stop_location + '.'\n",
    "        should_end_session = True\n",
    "    else:\n",
    "        # no times available to post.\n",
    "        if stop_bus_id or stop_message:\n",
    "            # if a bus name and message is available\n",
    "            speech_output = 'There is no incoming bus at this moment at ' + stop_location + '.'\n",
    "        else:\n",
    "            speech_output = 'There is something wrong with the stop ID you gave me, please try again.'\n",
    "        should_end_session = True\n",
    "        \n",
    "    return speech_output\n",
    "\n",
    "# --------------- Functions that control the skill's behavior ------------------\n",
    "    \n",
    "def get_welcome_response():\n",
    "    \"\"\" If we wanted to initialize the session to have some attributes we could\n",
    "    add those here\n",
    "    \"\"\"\n",
    "\n",
    "    session_attributes = {}\n",
    "    card_title = \"Welcome\"\n",
    "    speech_output = \"Welcome to the University of Maryland bus route alexa skill. \" \\\n",
    "                    \"You can request arrival times for a specific stop by saying, \" \\\n",
    "                    \"when is the next bus coming at stop ID.\"\n",
    "    # If the user either does not reply to the welcome message or says something\n",
    "    # that is not understood, they will be prompted again with this text.\n",
    "    reprompt_text = \"You can find your bus stop's ID online at next bus's website. \" \\\n",
    "                    \"Once you have a bus stop ID you can make a request, for example, \" \\\n",
    "                    \"when is the next bus coming at stop three zero nine six five.\"\n",
    "    should_end_session = False\n",
    "    return build_response(session_attributes, build_speechlet_response(\n",
    "        card_title, speech_output, reprompt_text, should_end_session))\n",
    "\n",
    "\n",
    "def handle_session_end_request():\n",
    "    card_title = \"Session Ended\"\n",
    "    speech_output = \"Have a nice day!\"\n",
    "    # Setting this to true ends the session and exits the skill.\n",
    "    should_end_session = True\n",
    "    return build_response({}, build_speechlet_response(\n",
    "        card_title, speech_output, None, should_end_session))\n",
    "\n",
    "def get_bus_arrival_session(intent, session):\n",
    "\n",
    "    session_attributes = {}\n",
    "    reprompt_text = {}\n",
    "    should_end_session = 'True'\n",
    "        \n",
    "    reprompt_text = None\n",
    "    intent_stopID = intent['slots']['stop']['value']\n",
    "    \n",
    "    r = get_prediction(stopId=intent_stopID)\n",
    "    stop_location,stop_busid,stop_direction,stop_message,stop_times = parse_prediction(r)\n",
    "    \n",
    "    speech_output = ''\n",
    "    for i,bus_name in enumerate(stop_busid):\n",
    "        # for each bus in the route get a response\n",
    "        stop_direction\n",
    "        stop_message[i][0]\n",
    "        stop_times[i][:]\n",
    "        response = bus_response(stop_location,bus_name,stop_direction[i][0],stop_message[i][0],\n",
    "            stop_times[i][:])\n",
    "        speech_output = speech_output + ' ' + response\n",
    "            \n",
    "\n",
    "    # Setting reprompt_text to None signifies that we do not want to reprompt\n",
    "    # the user. If the user does not respond or says something that is not\n",
    "    # understood, the session will end.\n",
    "    return build_response(session_attributes, build_speechlet_response(\n",
    "        intent['name'], speech_output, reprompt_text, should_end_session))\n",
    "\n",
    "\n",
    "# --------------- Events ------------------\n",
    "\n",
    "def on_session_started(session_started_request, session):\n",
    "    \"\"\" Called when the session starts \"\"\"\n",
    "\n",
    "    print(\"on_session_started requestId=\" + session_started_request['requestId']\n",
    "          + \", sessionId=\" + session['sessionId'])\n",
    "\n",
    "\n",
    "def on_launch(launch_request, session):\n",
    "    \"\"\" Called when the user launches the skill without specifying what they\n",
    "    want\n",
    "    \"\"\"\n",
    "\n",
    "    print(\"on_launch requestId=\" + launch_request['requestId'] +\n",
    "          \", sessionId=\" + session['sessionId'])\n",
    "    # Dispatch to your skill's launch\n",
    "    return get_welcome_response()\n",
    "\n",
    "\n",
    "def on_intent(intent_request, session):\n",
    "    \"\"\" Called when the user specifies an intent for this skill \"\"\"\n",
    "\n",
    "    print(\"on_intent requestId=\" + intent_request['requestId'] +\n",
    "          \", sessionId=\" + session['sessionId'])\n",
    "\n",
    "    intent = intent_request['intent']\n",
    "    intent_name = intent_request['intent']['name']\n",
    "\n",
    "    # Dispatch to your skill's intent handlers\n",
    "    if intent_name == \"WhatsMyBusArrivalIntent\":\n",
    "        return get_bus_arrival_session(intent, session)\n",
    "    elif intent_name == \"AMAZON.HelpIntent\":\n",
    "        return get_welcome_response()\n",
    "    elif intent_name == \"AMAZON.CancelIntent\" or intent_name == \"AMAZON.StopIntent\":\n",
    "        return handle_session_end_request()\n",
    "    else:\n",
    "        raise ValueError(\"Invalid intent\")\n",
    "\n",
    "\n",
    "def on_session_ended(session_ended_request, session):\n",
    "    \"\"\" Called when the user ends the session.\n",
    "\n",
    "    Is not called when the skill returns should_end_session=true\n",
    "    \"\"\"\n",
    "    print(\"on_session_ended requestId=\" + session_ended_request['requestId'] +\n",
    "          \", sessionId=\" + session['sessionId'])\n",
    "    # add cleanup logic here\n",
    "\n",
    "\n",
    "# --------------- Main handler ------------------\n",
    "\n",
    "def lambda_handler(event, context):\n",
    "    \"\"\" Route the incoming request based on type (LaunchRequest, IntentRequest,\n",
    "    etc.) The JSON body of the request is provided in the event parameter.\n",
    "    \"\"\"\n",
    "    print(\"event.session.application.applicationId=\" +\n",
    "          event['session']['application']['applicationId'])\n",
    "\n",
    "    \"\"\"\n",
    "    Uncomment this if statement and populate with your skill's application ID to\n",
    "    prevent someone else from configuring a skill that sends requests to this\n",
    "    function.\n",
    "    \"\"\"\n",
    "    # if (event['session']['application']['applicationId'] !=\n",
    "    #         \"amzn1.echo-sdk-ams.app.[unique-value-here]\"):\n",
    "    #     raise ValueError(\"Invalid Application ID\")\n",
    "\n",
    "    if event['session']['new']:\n",
    "        on_session_started({'requestId': event['request']['requestId']},\n",
    "                           event['session'])\n",
    "\n",
    "    if event['request']['type'] == \"LaunchRequest\":\n",
    "        return on_launch(event['request'], event['session'])\n",
    "    elif event['request']['type'] == \"IntentRequest\":\n",
    "        return on_intent(event['request'], event['session'])\n",
    "    elif event['request']['type'] == \"SessionEndedRequest\":\n",
    "        return on_session_ended(event['request'], event['session'])"
   ]
  },
  {
   "cell_type": "code",
   "execution_count": 155,
   "metadata": {
    "collapsed": false
   },
   "outputs": [
    {
     "ename": "IndexError",
     "evalue": "list index out of range",
     "output_type": "error",
     "traceback": [
      "\u001b[1;31m---------------------------------------------------------------------------\u001b[0m",
      "\u001b[1;31mIndexError\u001b[0m                                Traceback (most recent call last)",
      "\u001b[1;32m<ipython-input-155-94523d269b11>\u001b[0m in \u001b[0;36m<module>\u001b[1;34m()\u001b[0m\n\u001b[1;32m----> 1\u001b[1;33m \u001b[0mget_bus_arrival_session\u001b[0m\u001b[1;33m(\u001b[0m\u001b[0mevent\u001b[0m\u001b[1;33m[\u001b[0m\u001b[1;34m'request'\u001b[0m\u001b[1;33m]\u001b[0m\u001b[1;33m[\u001b[0m\u001b[1;34m'intent'\u001b[0m\u001b[1;33m]\u001b[0m\u001b[1;33m,\u001b[0m \u001b[0msession\u001b[0m\u001b[1;33m=\u001b[0m\u001b[1;36m1\u001b[0m\u001b[1;33m)\u001b[0m\u001b[1;33m\u001b[0m\u001b[0m\n\u001b[0m",
      "\u001b[1;32m<ipython-input-153-6b2ac731e258>\u001b[0m in \u001b[0;36mget_bus_arrival_session\u001b[1;34m(intent, session)\u001b[0m\n\u001b[0;32m    111\u001b[0m         \u001b[1;31m# for each bus in the route get a response\u001b[0m\u001b[1;33m\u001b[0m\u001b[1;33m\u001b[0m\u001b[0m\n\u001b[0;32m    112\u001b[0m         \u001b[0mstop_direction\u001b[0m\u001b[1;33m\u001b[0m\u001b[0m\n\u001b[1;32m--> 113\u001b[1;33m         \u001b[0mstop_message\u001b[0m\u001b[1;33m[\u001b[0m\u001b[0mi\u001b[0m\u001b[1;33m]\u001b[0m\u001b[1;33m[\u001b[0m\u001b[1;36m0\u001b[0m\u001b[1;33m]\u001b[0m\u001b[1;33m\u001b[0m\u001b[0m\n\u001b[0m\u001b[0;32m    114\u001b[0m         \u001b[0mstop_times\u001b[0m\u001b[1;33m[\u001b[0m\u001b[0mi\u001b[0m\u001b[1;33m]\u001b[0m\u001b[1;33m[\u001b[0m\u001b[1;33m:\u001b[0m\u001b[1;33m]\u001b[0m\u001b[1;33m\u001b[0m\u001b[0m\n\u001b[0;32m    115\u001b[0m         response = bus_response(stop_location,bus_name,stop_direction[i][0],stop_message[i][0],\n",
      "\u001b[1;31mIndexError\u001b[0m: list index out of range"
     ]
    }
   ],
   "source": [
    "get_bus_arrival_session(event['request']['intent'], session=1)"
   ]
  },
  {
   "cell_type": "code",
   "execution_count": 159,
   "metadata": {
    "collapsed": false,
    "scrolled": true
   },
   "outputs": [
    {
     "ename": "SyntaxError",
     "evalue": "invalid syntax (<ipython-input-159-dc11f349dcc1>, line 7)",
     "output_type": "error",
     "traceback": [
      "\u001b[1;36m  File \u001b[1;32m\"<ipython-input-159-dc11f349dcc1>\"\u001b[1;36m, line \u001b[1;32m7\u001b[0m\n\u001b[1;33m    print direct.attrib\u001b[0m\n\u001b[1;37m               ^\u001b[0m\n\u001b[1;31mSyntaxError\u001b[0m\u001b[1;31m:\u001b[0m invalid syntax\n"
     ]
    }
   ],
   "source": [
    "root = ET.fromstring(r.content)\n",
    "len(root)\n",
    "\n",
    "for bus in root:\n",
    "    pass#bus.attrib\n",
    "    for direct in bus:\n",
    "        print direct.attrib\n",
    "        for predict in direct:\n",
    "            pass#predict.attrib['minutes']\n"
   ]
  },
  {
   "cell_type": "code",
   "execution_count": 161,
   "metadata": {
    "collapsed": false
   },
   "outputs": [
    {
     "ename": "NameError",
     "evalue": "name 'get_response' is not defined",
     "output_type": "error",
     "traceback": [
      "\u001b[1;31m---------------------------------------------------------------------------\u001b[0m",
      "\u001b[1;31mNameError\u001b[0m                                 Traceback (most recent call last)",
      "\u001b[1;32m<ipython-input-161-d94be5581bf5>\u001b[0m in \u001b[0;36m<module>\u001b[1;34m()\u001b[0m\n\u001b[1;32m----> 1\u001b[1;33m \u001b[0mr\u001b[0m \u001b[1;33m=\u001b[0m \u001b[0mget_response\u001b[0m\u001b[1;33m(\u001b[0m\u001b[0mstopID\u001b[0m\u001b[1;33m=\u001b[0m\u001b[1;34m'51188'\u001b[0m\u001b[1;33m)\u001b[0m\u001b[1;33m\u001b[0m\u001b[0m\n\u001b[0m",
      "\u001b[1;31mNameError\u001b[0m: name 'get_response' is not defined"
     ]
    }
   ],
   "source": [
    "r = get_response(stopID='51188')"
   ]
  },
  {
   "cell_type": "code",
   "execution_count": null,
   "metadata": {
    "collapsed": true
   },
   "outputs": [],
   "source": []
  }
 ],
 "metadata": {
  "kernelspec": {
   "display_name": "Python 2",
   "language": "python",
   "name": "python2"
  },
  "language_info": {
   "codemirror_mode": {
    "name": "ipython",
    "version": 2
   },
   "file_extension": ".py",
   "mimetype": "text/x-python",
   "name": "python",
   "nbconvert_exporter": "python",
   "pygments_lexer": "ipython2",
   "version": "2.7.12"
  }
 },
 "nbformat": 4,
 "nbformat_minor": 0
}
